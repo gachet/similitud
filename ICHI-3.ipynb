{
 "cells": [
  {
   "cell_type": "code",
   "execution_count": 1,
   "metadata": {
    "scrolled": true
   },
   "outputs": [
    {
     "data": {
      "application/javascript": [
       "IPython.notebook.set_autosave_interval(0)"
      ]
     },
     "metadata": {},
     "output_type": "display_data"
    },
    {
     "name": "stdout",
     "output_type": "stream",
     "text": [
      "Autosave disabled\n"
     ]
    }
   ],
   "source": [
    "%autosave 0"
   ]
  },
  {
   "cell_type": "code",
   "execution_count": 2,
   "metadata": {
    "collapsed": true,
    "scrolled": true
   },
   "outputs": [],
   "source": [
    "# Import the pandas package, then use the \"read_csv\" function to read\n",
    "# the labeled training data\n",
    "import pandas as pd       \n",
    "train = pd.read_csv(\"ICHI-corpus3-MOD.tsv\", header=0, \\\n",
    "                    delimiter=\"\\t\", quoting=2)"
   ]
  },
  {
   "cell_type": "code",
   "execution_count": 3,
   "metadata": {},
   "outputs": [
    {
     "data": {
      "text/plain": [
       "(105, 2)"
      ]
     },
     "execution_count": 3,
     "metadata": {},
     "output_type": "execute_result"
    }
   ],
   "source": [
    "train.shape\n"
   ]
  },
  {
   "cell_type": "code",
   "execution_count": 4,
   "metadata": {},
   "outputs": [
    {
     "data": {
      "text/plain": [
       "array(['id', 'question'], dtype=object)"
      ]
     },
     "execution_count": 4,
     "metadata": {},
     "output_type": "execute_result"
    }
   ],
   "source": [
    "train.columns.values"
   ]
  },
  {
   "cell_type": "code",
   "execution_count": 5,
   "metadata": {},
   "outputs": [
    {
     "name": "stdout",
     "output_type": "stream",
     "text": [
      "11.0\n"
     ]
    }
   ],
   "source": [
    "print (train[\"id\"][0])"
   ]
  },
  {
   "cell_type": "code",
   "execution_count": 6,
   "metadata": {},
   "outputs": [
    {
     "name": "stdout",
     "output_type": "stream",
     "text": [
      "Sugar free My 90 year old Daddy just got diagnosed, the one thing he loves is Ice cream, can he eat sugar free ice cream?\n"
     ]
    }
   ],
   "source": [
    "print (train[\"question\"][0])"
   ]
  },
  {
   "cell_type": "code",
   "execution_count": 7,
   "metadata": {},
   "outputs": [
    {
     "name": "stdout",
     "output_type": "stream",
     "text": [
      "Metformin Advice Please..I am just wondering if anyone knows if you take more than one pill of your usual dose of Metformin can it hurt/affect you in any way? I had my tea but I couldn't remember if I had my Metformin afterwards. Should I take a pill if I'm not sure. or should I just leave it?\n"
     ]
    }
   ],
   "source": [
    "print (train[\"question\"][10])"
   ]
  },
  {
   "cell_type": "code",
   "execution_count": 8,
   "metadata": {
    "collapsed": true
   },
   "outputs": [],
   "source": [
    "# Import BeautifulSoup into your workspace\n",
    "from bs4 import BeautifulSoup             \n",
    "import re\n",
    "import nltk\n",
    "#nltk.download()  # Download text data sets, including stop words\n",
    "from nltk.corpus import stopwords # Import the stop word list\n",
    "#print (stopwords.words(\"english\") )"
   ]
  },
  {
   "cell_type": "code",
   "execution_count": 9,
   "metadata": {
    "collapsed": true,
    "scrolled": true
   },
   "outputs": [],
   "source": [
    "from nltk.corpus import stopwords # Import the stop word list\n",
    "#print (stopwords.words(\"english\") )"
   ]
  },
  {
   "cell_type": "code",
   "execution_count": 10,
   "metadata": {
    "collapsed": true
   },
   "outputs": [],
   "source": [
    "def question_to_words( raw_review ):\n",
    "    # Function to convert a raw review to a string of words\n",
    "    # The input is a single string (a raw movie review), and \n",
    "    # the output is a single string (a preprocessed movie review)\n",
    "    #\n",
    "    # 1. Remove HTML\n",
    "    review_text = BeautifulSoup(raw_review, \"lxml\").get_text() \n",
    "    #\n",
    "    # 2. Remove non-letters        \n",
    "    letters_only = re.sub(\"[^a-zA-Z]\", \" \", review_text) \n",
    "    #\n",
    "    # 3. Convert to lower case, split into individual words\n",
    "    words = letters_only.lower().split()                             \n",
    "    #\n",
    "    # 4. In Python, searching a set is much faster than searching\n",
    "    #   a list, so convert the stop words to a set\n",
    "    stops = set(stopwords.words(\"english\"))                  \n",
    "    # \n",
    "    # 5. Remove stop words\n",
    "    meaningful_words = [w for w in words if not w in stops]   \n",
    "    #\n",
    "    # 6. Join the words back into one string separated by space, \n",
    "    # and return the result.\n",
    "    return( \" \".join( meaningful_words ))   "
   ]
  },
  {
   "cell_type": "code",
   "execution_count": 11,
   "metadata": {},
   "outputs": [
    {
     "name": "stdout",
     "output_type": "stream",
     "text": [
      "sugar free year old daddy got diagnosed one thing loves ice cream eat sugar free ice cream\n"
     ]
    }
   ],
   "source": [
    "clean_question_train = question_to_words( train[\"question\"][0] )\n",
    "print (clean_question_train)"
   ]
  },
  {
   "cell_type": "code",
   "execution_count": 12,
   "metadata": {},
   "outputs": [
    {
     "name": "stdout",
     "output_type": "stream",
     "text": [
      "105\n"
     ]
    }
   ],
   "source": [
    "# Get the number of reviews based on the dataframe column size\n",
    "num_questions_train = train[\"question\"].size\n",
    "print num_questions_train\n",
    "\n",
    "# Initialize an empty list to hold the clean reviews\n",
    "#clean_train_reviews = []\n",
    "\n",
    "# Loop over each review; create an index i that goes from 0 to the length\n",
    "# of the movie review list \n",
    "#for i in xrange( 0, num_reviews ):\n",
    "    # Call our function for each one, and add the result to the list of\n",
    "    # clean reviews\n",
    "    #clean_train_reviews.append( review_to_words( train[\"review\"][i] ) )"
   ]
  },
  {
   "cell_type": "code",
   "execution_count": 13,
   "metadata": {},
   "outputs": [
    {
     "name": "stdout",
     "output_type": "stream",
     "text": [
      "Cleaning and parsing the training set questions...\n",
      "\n",
      "Question from train 10 of 105\n",
      "\n",
      "Question from train 20 of 105\n",
      "\n",
      "Question from train 30 of 105\n",
      "\n",
      "Question from train 40 of 105\n",
      "\n",
      "Question from train 50 of 105\n",
      "\n",
      "Question from train 60 of 105\n",
      "\n",
      "Question from train 70 of 105\n",
      "\n",
      "Question from train 80 of 105\n",
      "\n",
      "Question from train 90 of 105\n",
      "\n",
      "Question from train 100 of 105\n",
      "\n"
     ]
    }
   ],
   "source": [
    "print (\"Cleaning and parsing the training set questions...\\n\")\n",
    "clean_train_questions = []\n",
    "\n",
    "for i in range( 0, num_questions_train ):\n",
    "    # If the index is evenly divisible by 1000, print a message\n",
    "    if( (i+1)%10 == 0 ):\n",
    "        print (\"Question from train %d of %d\\n\" % ( i+1, num_questions_train )  )                                                                  \n",
    "    clean_train_questions.append( question_to_words( train[\"question\"][i] ))\n"
   ]
  },
  {
   "cell_type": "code",
   "execution_count": 14,
   "metadata": {},
   "outputs": [
    {
     "name": "stdout",
     "output_type": "stream",
     "text": [
      "new c going battery tests swollen axillary supraclavicular lymph nodes obviously looking cancer ultrasounds chest xray diagnostic mammogram scheduled lymph node removal weeks doctor leave town family emergency contact days great deal stress year also meds panic disorder generalized anxiety surgeon met yesterday said c diabetic right antibiotic see lymph nodes reacting unknown bacterial infection stuff going contribute higher reading fasting bg always normal last checked year ago\n"
     ]
    }
   ],
   "source": [
    "print clean_train_questions[20]"
   ]
  },
  {
   "cell_type": "code",
   "execution_count": 15,
   "metadata": {},
   "outputs": [
    {
     "name": "stdout",
     "output_type": "stream",
     "text": [
      "sugar free year old daddy got diagnosed one thing loves ice cream eat sugar free ice cream\n"
     ]
    }
   ],
   "source": [
    "print clean_train_questions[0]"
   ]
  },
  {
   "cell_type": "code",
   "execution_count": 16,
   "metadata": {},
   "outputs": [
    {
     "name": "stdout",
     "output_type": "stream",
     "text": [
      "Creating the bag of words for train set...\n",
      "\n"
     ]
    }
   ],
   "source": [
    "print \"Creating the bag of words for train set...\\n\"\n",
    "from sklearn.feature_extraction.text import CountVectorizer\n",
    "\n",
    "# Initialize the \"CountVectorizer\" object, which is scikit-learn's\n",
    "# bag of words tool.  \n",
    "vectorizer = CountVectorizer(analyzer = \"word\",   \\\n",
    "                             tokenizer = None,    \\\n",
    "                             preprocessor = None, \\\n",
    "                             stop_words = None,   \\\n",
    "                             max_features = 900) \n",
    "\n",
    "# fit_transform() does two functions: First, it fits the model\n",
    "# and learns the vocabulary; second, it transforms our training data\n",
    "# into feature vectors. The input to fit_transform should be a list of \n",
    "# strings.\n",
    "train_data_features = vectorizer.fit_transform(clean_train_questions)\n",
    "\n",
    "# Numpy arrays are easy to work with, so convert the result to an \n",
    "# array\n",
    "train_data_features = train_data_features.toarray()\n"
   ]
  },
  {
   "cell_type": "code",
   "execution_count": 17,
   "metadata": {},
   "outputs": [
    {
     "name": "stdout",
     "output_type": "stream",
     "text": [
      "(105L, 900L)\n"
     ]
    }
   ],
   "source": [
    "print train_data_features.shape\n"
   ]
  },
  {
   "cell_type": "code",
   "execution_count": 18,
   "metadata": {},
   "outputs": [],
   "source": [
    "# Take a look at the words in the vocabulary\n",
    "vocab = vectorizer.get_feature_names()\n",
    "#print vocab"
   ]
  },
  {
   "cell_type": "code",
   "execution_count": 19,
   "metadata": {},
   "outputs": [
    {
     "name": "stdout",
     "output_type": "stream",
     "text": [
      "[0 0 0 0 0 0 0 0 0 0 0 0 0 0 0 0 0 0 0 0 0 0 0 0 0 0 0 0 0 0 0 0 0 0 0 0 0\n",
      " 0 0 0 0 0 0 0 0 0 0 0 0 0 0 0 0 0 0 0 0 0 0 0 0 0 0 0 0 0 0 0 0 0 0 0 0 0\n",
      " 0 0 0 0 0 0 0 0 0 0 0 0 0 0 0 0 0 0 0 0 0 0 0 0 0 0 0 0 0 0 0 0 0 0 0 0 0\n",
      " 0 0 0 0 0 0 0 0 0 0 0 0 0 0 0 0 0 0 0 0 0 0 0 0 0 0 0 0 0 0 0 0 0 0 0 0 0\n",
      " 0 0 0 0 0 0 0 0 0 0 0 0 0 0 0 0 0 0 0 0 0 0 0 0 0 0 0 0 0 0 0 0 0 0 0 0 0\n",
      " 0 0 0 0 0 0 0 2 0 0 0 0 0 0 0 0 0 0 0 0 1 0 0 0 0 0 0 0 0 0 0 0 0 0 0 0 0\n",
      " 0 0 0 0 0 0 0 0 0 0 0 0 1 0 0 0 0 0 0 0 0 0 0 0 0 0 0 0 0 0 0 0 0 0 0 0 0\n",
      " 0 0 0 0 0 0 0 0 0 0 0 1 0 0 0 0 0 0 0 0 0 0 0 0 0 0 0 0 0 0 0 0 0 0 0 0 0\n",
      " 0 0 0 0 0 0 0 0 0 0 0 0 0 0 0 0 0 0 0 0 0 0 0 0 0 0 0 0 0 0 0 0 0 0 0 0 0\n",
      " 2 0 0 0 0 0 0 0 0 0 0 0 0 0 0 0 1 0 0 0 0 0 0 0 0 0 0 0 0 0 0 0 0 0 0 0 0\n",
      " 0 0 0 2 0 0 0 0 0 0 0 0 0 0 0 0 0 0 0 0 0 0 0 0 0 0 0 0 0 0 0 0 0 0 0 0 0\n",
      " 0 0 0 0 0 0 0 0 0 0 0 0 0 0 0 0 0 0 0 0 0 0 0 0 0 1 0 0 0 0 0 0 0 0 0 0 0\n",
      " 0 0 0 0 0 0 0 0 0 0 0 0 0 0 0 0 0 0 0 0 0 0 0 0 0 0 0 0 0 0 0 0 0 0 0 0 0\n",
      " 0 0 0 0 0 0 0 0 0 0 0 0 0 0 0 0 0 0 0 0 0 0 0 0 0 1 1 0 0 0 0 0 0 0 0 0 0\n",
      " 0 0 0 0 0 0 0 0 0 0 0 0 0 0 0 0 0 0 0 0 0 0 0 0 0 0 0 0 0 0 0 0 0 0 0 0 0\n",
      " 0 0 0 0 0 0 0 0 0 0 0 0 0 0 0 0 0 0 0 0 0 0 0 0 0 0 0 0 0 0 0 0 0 0 0 0 0\n",
      " 0 0 0 0 0 0 0 0 0 0 0 0 0 0 0 0 0 0 0 0 0 0 0 0 0 0 0 0 0 0 0 0 0 0 0 0 0\n",
      " 0 0 0 0 0 0 0 0 0 0 0 0 0 0 0 0 0 0 0 0 0 0 0 0 0 0 0 0 0 0 0 0 0 0 0 0 0\n",
      " 0 0 0 0 0 0 0 0 0 0 0 0 0 0 0 0 0 0 0 0 0 0 0 0 0 0 0 0 0 0 0 0 0 0 0 0 0\n",
      " 0 0 0 0 0 0 0 0 0 0 0 0 0 0 2 0 0 0 0 0 0 0 0 0 0 0 0 0 0 0 0 0 0 0 0 0 0\n",
      " 0 0 0 0 0 0 0 0 0 0 0 0 0 0 0 0 0 0 0 0 0 0 0 0 0 0 0 0 1 0 0 0 0 0 0 0 0\n",
      " 0 0 0 0 0 0 0 0 0 0 0 0 0 0 0 0 0 0 0 0 0 0 0 0 0 0 0 0 0 0 0 0 0 0 0 0 0\n",
      " 0 0 0 0 0 0 0 0 0 0 0 0 0 0 0 0 0 0 0 0 0 0 0 0 0 0 0 0 0 0 0 0 0 0 0 0 0\n",
      " 0 0 0 0 0 0 0 0 0 0 0 0 0 0 0 0 0 0 0 0 0 0 0 0 0 0 0 0 0 0 0 0 0 0 0 0 0\n",
      " 0 0 1 0 0 0 0 0 0 0 0 0]\n"
     ]
    }
   ],
   "source": [
    "print train_data_features[0]"
   ]
  },
  {
   "cell_type": "code",
   "execution_count": 36,
   "metadata": {},
   "outputs": [],
   "source": [
    "import numpy as np\n",
    "\n",
    "# Sum up the counts of each vocabulary word\n",
    "dist = np.sum(train_data_features, axis=0)\n",
    "ngram_freq = {}\n",
    "# For each, print the vocabulary word and the number of times it \n",
    "# appears in the training set\n",
    "for tag, count in zip(vocab, dist):\n",
    "#    print count, tag\n",
    "    ngram_freq[tag]=count\n",
    "\n"
   ]
  },
  {
   "cell_type": "code",
   "execution_count": 37,
   "metadata": {},
   "outputs": [
    {
     "data": {
      "text/plain": [
       "[(u'diabetes', 46),\n",
       " (u'sugar', 43),\n",
       " (u'metformin', 38),\n",
       " (u'type', 36),\n",
       " (u'blood', 34),\n",
       " (u'anyone', 33),\n",
       " (u'diabetic', 30),\n",
       " (u'eat', 26),\n",
       " (u'take', 23),\n",
       " (u'know', 22)]"
      ]
     },
     "execution_count": 37,
     "metadata": {},
     "output_type": "execute_result"
    }
   ],
   "source": [
    "\n",
    "import operator\n",
    "sorted_x = sorted(ngram_freq.items(), key=operator.itemgetter(1),reverse=True)\n",
    "#print sorted_x\n",
    "#n_items = take(3,   sorted_x.iteritems())\n",
    "#print n_items\n",
    "sorted_x[:10]"
   ]
  },
  {
   "cell_type": "code",
   "execution_count": 38,
   "metadata": {},
   "outputs": [],
   "source": [
    "from sklearn.feature_extraction.text import CountVectorizer, TfidfVectorizer\n",
    "import matplotlib.pyplot as plt\n",
    "import pandas as pd\n",
    "import numpy as np\n",
    "\n",
    "def visualize_word_freq(input_data,max_words):\n",
    "    \"\"\" \n",
    "    Input data should be a list of docs.\n",
    "    Each doc is represented by one whole string (with preprocessing, eg.remove markups)    \n",
    "    \"\"\"\n",
    "    # Plot configuration\n",
    "    plt.style.use(\"ggplot\")\n",
    "    plt.rcParams['axes.titlesize'] = 32\n",
    "    plt.rcParams['figure.figsize'] = (20.0, 5.0)\n",
    "    plt.rcParams['xtick.labelsize'] = 22\n",
    "    \n",
    "    vectorizer = CountVectorizer(max_features=max_words)\n",
    "    TITLE = \"MOST Freq Words\"\n",
    "        \n",
    "    mat = vectorizer.fit_transform(input_data)\n",
    "    \n",
    "    pd.DataFrame(np.sum(mat,axis=0).T,\n",
    "             index=vectorizer.get_feature_names(),\n",
    "             columns=['freq']).sort_values(by='freq',\n",
    "                                           ascending=False).plot(kind='bar',title=TITLE)"
   ]
  },
  {
   "cell_type": "code",
   "execution_count": 39,
   "metadata": {},
   "outputs": [
    {
     "data": {
      "image/png": "[encoded data removed]",
      "text/plain": [
       "<matplotlib.figure.Figure at 0x10fcceb8>"
      ]
     },
     "metadata": {},
     "output_type": "display_data"
    }
   ],
   "source": [
    "%matplotlib inline\n",
    "visualize_word_freq(clean_train_questions,20)"
   ]
  },
  {
   "cell_type": "code",
   "execution_count": 42,
   "metadata": {
    "scrolled": false
   },
   "outputs": [
    {
     "name": "stdout",
     "output_type": "stream",
     "text": [
      "Creating the tf/idf...\n",
      "\n",
      "(105L, 900L)\n"
     ]
    }
   ],
   "source": [
    "from sklearn.feature_extraction.text import TfidfVectorizer\n",
    "print(\"Creating the tf/idf...\\n\")\n",
    "# Initialize the \"TfidfVectorizer\" object, which is scikit-learn's tf/idf tool.\n",
    "\"\"\"\n",
    "tfidf_vectorizer = TfidfVectorizer(max_df=1, \\\n",
    "                                   max_features=20, \\\n",
    "                                   min_df=1, \\\n",
    "                                   stop_words=None, \\\n",
    "                                   use_idf=True, \\\n",
    "                                   tokenizer=None, \\\n",
    "                                   ngram_range=(1,1)) \n",
    "\n",
    "\"\"\"\n",
    "\n",
    "\"\"\"\n",
    "CALCULA EL IF-tdf DE ACUERDO A LA EXPRESION \n",
    "morm (tf * LOGN(dT+1/dt+1)+1)\n",
    "\"\"\"\n",
    "\n",
    "\n",
    "tfidf_vectorizer = TfidfVectorizer(max_features=900)\n",
    "# Tf-idf-weighted term-document sparse matrix \n",
    "\n",
    "tfidf_train_data_features = tfidf_vectorizer.fit_transform(clean_train_questions)\n",
    "\n",
    "\n",
    "\n",
    "\n",
    "# Convert the result to nampy array \n",
    "\n",
    "tfidf_train_data_features_array= tfidf_train_data_features.toarray() \n",
    "\n",
    "print(tfidf_train_data_features_array.shape)\n",
    "vocab = tfidf_vectorizer.get_feature_names()\n",
    "#print vocab\n"
   ]
  },
  {
   "cell_type": "code",
   "execution_count": 43,
   "metadata": {},
   "outputs": [],
   "source": [
    "#print train_data_features"
   ]
  },
  {
   "cell_type": "code",
   "execution_count": 44,
   "metadata": {},
   "outputs": [],
   "source": [
    "#tfidf_train_data_features.A[0]"
   ]
  },
  {
   "cell_type": "code",
   "execution_count": 45,
   "metadata": {
    "scrolled": true
   },
   "outputs": [
    {
     "data": {
      "text/plain": [
       "array([ 1.        ,  0.        ,  0.        ,  0.03673628,  0.05018691,\n",
       "        0.04009377,  0.        ,  0.        ,  0.        ,  0.        ,\n",
       "        0.03174107,  0.        ,  0.07202018,  0.02199356,  0.07105799,\n",
       "        0.        ,  0.        ,  0.05094452,  0.03453765,  0.        ,\n",
       "        0.02483711,  0.        ,  0.01772247,  0.        ,  0.04209686,\n",
       "        0.07943853,  0.        ,  0.03513058,  0.        ,  0.        ,\n",
       "        0.01019913,  0.09545637,  0.02195643,  0.04215165,  0.        ,\n",
       "        0.        ,  0.        ,  0.01875223,  0.        ,  0.        ,\n",
       "        0.07986977,  0.28246932,  0.01923789,  0.01844407,  0.        ,\n",
       "        0.        ,  0.08554566,  0.        ,  0.11522225,  0.        ,\n",
       "        0.        ,  0.        ,  0.05619191,  0.07441536,  0.248932  ,\n",
       "        0.        ,  0.        ,  0.        ,  0.        ,  0.        ,\n",
       "        0.0497615 ,  0.        ,  0.0660735 ,  0.07404125,  0.03812501,\n",
       "        0.03350976,  0.21792006,  0.        ,  0.01939934,  0.        ,\n",
       "        0.03267464,  0.        ,  0.05592471,  0.        ,  0.        ,\n",
       "        0.06335997,  0.04544036,  0.        ,  0.        ,  0.04086871,\n",
       "        0.09941446,  0.12628352,  0.        ,  0.        ,  0.01719967,\n",
       "        0.        ,  0.02563963,  0.        ,  0.        ,  0.0454611 ,\n",
       "        0.09216015,  0.        ,  0.03629371,  0.02275073,  0.23802954,\n",
       "        0.        ,  0.02068864,  0.02464979,  0.        ,  0.03243713,\n",
       "        0.        ,  0.02179584,  0.0240681 ,  0.        ,  0.        ])"
      ]
     },
     "execution_count": 45,
     "metadata": {},
     "output_type": "execute_result"
    }
   ],
   "source": [
    "#check for sanity\n",
    "from sklearn.metrics.pairwise import linear_kernel\n",
    "cosine_similarities = linear_kernel(tfidf_train_data_features[0:1], tfidf_train_data_features).flatten()\n",
    "cosine_similarities"
   ]
  },
  {
   "cell_type": "code",
   "execution_count": 46,
   "metadata": {},
   "outputs": [
    {
     "data": {
      "text/plain": [
       "array([ 0, 41, 54, 94, 66], dtype=int64)"
      ]
     },
     "execution_count": 46,
     "metadata": {},
     "output_type": "execute_result"
    }
   ],
   "source": [
    "related_indices = cosine_similarities.argsort()[:-6:-1]\n",
    "related_indices\n"
   ]
  },
  {
   "cell_type": "code",
   "execution_count": 47,
   "metadata": {},
   "outputs": [
    {
     "name": "stdout",
     "output_type": "stream",
     "text": [
      "11.0\n",
      "137.0\n",
      "152.0\n",
      "193.0\n",
      "165.0\n"
     ]
    }
   ],
   "source": [
    "for i in related_indices:\n",
    "    print (train[\"id\"][i])"
   ]
  },
  {
   "cell_type": "code",
   "execution_count": 48,
   "metadata": {},
   "outputs": [
    {
     "data": {
      "text/plain": [
       "array([ 1.        ,  0.28246932,  0.248932  ,  0.23802954,  0.21792006])"
      ]
     },
     "execution_count": 48,
     "metadata": {},
     "output_type": "execute_result"
    }
   ],
   "source": [
    "cosine_similarities[related_indices]"
   ]
  },
  {
   "cell_type": "code",
   "execution_count": 50,
   "metadata": {},
   "outputs": [
    {
     "name": "stdout",
     "output_type": "stream",
     "text": [
      "Question  0 id 11 most similar to \n",
      "\n",
      "11.0\n",
      "137.0\n",
      "152.0\n",
      "193.0\n",
      "\n",
      "Cosine vector \n",
      "\n",
      "[ 1.          0.28246932  0.248932    0.23802954]\n",
      "\n",
      "Question  1 id 12 most similar to \n",
      "\n",
      "12.0\n",
      "127.0\n",
      "167.0\n",
      "203.0\n",
      "\n",
      "Cosine vector \n",
      "\n",
      "[ 1.          0.3810436   0.14497921  0.10717328]\n",
      "\n",
      "Question  2 id 13 most similar to \n",
      "\n",
      "13.0\n",
      "154.0\n",
      "125.0\n",
      "200.0\n",
      "\n",
      "Cosine vector \n",
      "\n",
      "[ 1.          0.17822766  0.16342329  0.14547338]\n",
      "\n",
      "Question  3 id 14 most similar to \n",
      "\n",
      "14.0\n",
      "103.0\n",
      "164.0\n",
      "15.0\n",
      "\n",
      "Cosine vector \n",
      "\n",
      "[ 1.          0.34284112  0.13918243  0.13656304]\n",
      "\n",
      "Question  4 id 15 most similar to \n",
      "\n",
      "15.0\n",
      "113.0\n",
      "162.0\n",
      "179.0\n",
      "\n",
      "Cosine vector \n",
      "\n",
      "[ 1.          0.32002504  0.28523738  0.25287308]\n",
      "\n",
      "Question  5 id 16 most similar to \n",
      "\n",
      "16.0\n",
      "192.0\n",
      "142.0\n",
      "15.0\n",
      "\n",
      "Cosine vector \n",
      "\n",
      "[ 1.          0.28932099  0.1895357   0.177798  ]\n",
      "\n",
      "Question  6 id 17 most similar to \n",
      "\n",
      "17.0\n",
      "141.0\n",
      "194.0\n",
      "168.0\n",
      "\n",
      "Cosine vector \n",
      "\n",
      "[ 1.          0.23340948  0.19994945  0.08422142]\n",
      "\n",
      "Question  7 id 18 most similar to \n",
      "\n",
      "18.0\n",
      "156.0\n",
      "142.0\n",
      "112.0\n",
      "\n",
      "Cosine vector \n",
      "\n",
      "[ 1.          0.20230752  0.16199446  0.13169271]\n",
      "\n",
      "Question  8 id 19 most similar to \n",
      "\n",
      "19.0\n",
      "129.0\n",
      "156.0\n",
      "146.0\n",
      "\n",
      "Cosine vector \n",
      "\n",
      "[ 1.          0.1969181   0.16522784  0.14536416]\n",
      "\n",
      "Question  9 id 20 most similar to \n",
      "\n",
      "20.0\n",
      "197.0\n",
      "202.0\n",
      "161.0\n",
      "\n",
      "Cosine vector \n",
      "\n",
      "[ 1.          0.47190516  0.13586937  0.11557078]\n",
      "\n"
     ]
    }
   ],
   "source": [
    "# compute all\n",
    "#\"\"\"\n",
    "for i in range(0,10):\n",
    "    cosine_similarities = linear_kernel(tfidf_train_data_features[i:i+1], tfidf_train_data_features).flatten()\n",
    "#cosine_similarities\n",
    "    related_indices = cosine_similarities.argsort()[:-5:-1]\n",
    "    print (\"Question  %d id %d most similar to \\n\" % ( i, train[\"id\"][i])  )  \n",
    "    #related_indices\n",
    "    for i in related_indices:\n",
    "        print (train[\"id\"][i])\n",
    "    #print (train[\"id\"][related_indices])\n",
    "    print\n",
    "    print \"Cosine vector \"\n",
    "    print\n",
    "    print cosine_similarities[related_indices]\n",
    "    print\n",
    "#    \"\"\""
   ]
  },
  {
   "cell_type": "code",
   "execution_count": 51,
   "metadata": {},
   "outputs": [
    {
     "name": "stdout",
     "output_type": "stream",
     "text": [
      "Question  0 id 11 most similar to \n",
      "\n",
      "137.0\n",
      "152.0\n",
      "193.0\n",
      "165.0\n",
      "\n",
      "Cosine vector \n",
      "\n",
      "[ 0.28246932  0.248932    0.23802954  0.21792006]\n",
      "\n",
      "Question  1 id 12 most similar to \n",
      "\n",
      "127.0\n",
      "167.0\n",
      "203.0\n",
      "105.0\n",
      "\n",
      "Cosine vector \n",
      "\n",
      "[ 0.3810436   0.14497921  0.10717328  0.10589828]\n",
      "\n",
      "Question  2 id 13 most similar to \n",
      "\n",
      "154.0\n",
      "125.0\n",
      "200.0\n",
      "178.0\n",
      "\n",
      "Cosine vector \n",
      "\n",
      "[ 0.17822766  0.16342329  0.14547338  0.13023331]\n",
      "\n",
      "Question  3 id 14 most similar to \n",
      "\n",
      "103.0\n",
      "164.0\n",
      "179.0\n",
      "121.0\n",
      "\n",
      "Cosine vector \n",
      "\n",
      "[ 0.34284112  0.13918243  0.13221589  0.11284506]\n",
      "\n",
      "Question  4 id 15 most similar to \n",
      "\n",
      "113.0\n",
      "162.0\n",
      "179.0\n",
      "149.0\n",
      "\n",
      "Cosine vector \n",
      "\n",
      "[ 0.32002504  0.28523738  0.25287308  0.24745405]\n",
      "\n",
      "Question  5 id 16 most similar to \n",
      "\n",
      "192.0\n",
      "142.0\n",
      "198.0\n",
      "113.0\n",
      "\n",
      "Cosine vector \n",
      "\n",
      "[ 0.28932099  0.1895357   0.15652844  0.15436409]\n",
      "\n",
      "Question  6 id 17 most similar to \n",
      "\n",
      "141.0\n",
      "194.0\n",
      "168.0\n",
      "204.0\n",
      "\n",
      "Cosine vector \n",
      "\n",
      "[ 0.23340948  0.19994945  0.08422142  0.07784399]\n",
      "\n",
      "Question  7 id 18 most similar to \n",
      "\n",
      "156.0\n",
      "142.0\n",
      "112.0\n",
      "202.0\n",
      "\n",
      "Cosine vector \n",
      "\n",
      "[ 0.20230752  0.16199446  0.13169271  0.10636545]\n",
      "\n",
      "Question  8 id 19 most similar to \n",
      "\n",
      "129.0\n",
      "156.0\n",
      "146.0\n",
      "186.0\n",
      "\n",
      "Cosine vector \n",
      "\n",
      "[ 0.1969181   0.16522784  0.14536416  0.11788019]\n",
      "\n",
      "Question  9 id 20 most similar to \n",
      "\n",
      "197.0\n",
      "202.0\n",
      "161.0\n",
      "159.0\n",
      "\n",
      "Cosine vector \n",
      "\n",
      "[ 0.47190516  0.13586937  0.11557078  0.07428731]\n",
      "\n"
     ]
    }
   ],
   "source": [
    "#compute all similarities but the first 10 text (test questions)\n",
    "for i in range(0,10):\n",
    "    cosine_similarities = linear_kernel(tfidf_train_data_features[i:i+1], tfidf_train_data_features[10:105]).flatten()\n",
    "#cosine_similarities\n",
    "    related_indices = cosine_similarities.argsort()[:-5:-1]\n",
    "    #related_indices+10\n",
    "    print (\"Question  %d id %d most similar to \\n\" % ( i, train[\"id\"][i])  ) \n",
    "    for i in related_indices+10:\n",
    "        print (train[\"id\"][i])\n",
    "    #print (train[\"id\"][related_indices])\n",
    "    print\n",
    "    print \"Cosine vector \"\n",
    "    print\n",
    "    print cosine_similarities[related_indices]\n",
    "    print\n",
    "    #print (train[\"id\"][related_indices+10])\n",
    "    #print cosine_similarities[related_indices]\n",
    "    #print\n"
   ]
  },
  {
   "cell_type": "code",
   "execution_count": null,
   "metadata": {
    "collapsed": true
   },
   "outputs": [],
   "source": []
  }
 ],
 "metadata": {
  "anaconda-cloud": {},
  "kernelspec": {
   "display_name": "Python 2",
   "language": "python",
   "name": "python2"
  },
  "language_info": {
   "codemirror_mode": {
    "name": "ipython",
    "version": 2
   },
   "file_extension": ".py",
   "mimetype": "text/x-python",
   "name": "python",
   "nbconvert_exporter": "python",
   "pygments_lexer": "ipython2",
   "version": "2.7.13"
  }
 },
 "nbformat": 4,
 "nbformat_minor": 1
}
