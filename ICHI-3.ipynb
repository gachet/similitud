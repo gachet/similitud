{
 "cells": [
  {
   "cell_type": "code",
   "execution_count": 1,
   "metadata": {
    "collapsed": false,
    "scrolled": true
   },
   "outputs": [
    {
     "data": {
      "application/javascript": [
       "IPython.notebook.set_autosave_interval(0)"
      ]
     },
     "metadata": {},
     "output_type": "display_data"
    },
    {
     "name": "stdout",
     "output_type": "stream",
     "text": [
      "Autosave disabled\n"
     ]
    }
   ],
   "source": [
    "%autosave 0"
   ]
  },
  {
   "cell_type": "code",
   "execution_count": 1,
   "metadata": {
    "collapsed": true,
    "scrolled": true
   },
   "outputs": [],
   "source": [
    "# Import the pandas package, then use the \"read_csv\" function to read\n",
    "# the labeled training data\n",
    "import pandas as pd       \n",
    "train = pd.read_csv(\"ICHI-corpus2-MOD.tsv\", header=0, \\\n",
    "                    delimiter=\"\\t\", quoting=2)"
   ]
  },
  {
   "cell_type": "code",
   "execution_count": 2,
   "metadata": {
    "collapsed": false
   },
   "outputs": [
    {
     "data": {
      "text/plain": [
       "(105, 2)"
      ]
     },
     "execution_count": 2,
     "metadata": {},
     "output_type": "execute_result"
    }
   ],
   "source": [
    "train.shape\n"
   ]
  },
  {
   "cell_type": "code",
   "execution_count": 3,
   "metadata": {
    "collapsed": false
   },
   "outputs": [
    {
     "data": {
      "text/plain": [
       "array(['Id', 'Question'], dtype=object)"
      ]
     },
     "execution_count": 3,
     "metadata": {},
     "output_type": "execute_result"
    }
   ],
   "source": [
    "train.columns.values"
   ]
  },
  {
   "cell_type": "code",
   "execution_count": 4,
   "metadata": {
    "collapsed": false
   },
   "outputs": [
    {
     "name": "stdout",
     "output_type": "stream",
     "text": [
      "11\n"
     ]
    }
   ],
   "source": [
    "print (train[\"Id\"][0])"
   ]
  },
  {
   "cell_type": "code",
   "execution_count": 5,
   "metadata": {
    "collapsed": false
   },
   "outputs": [
    {
     "name": "stdout",
     "output_type": "stream",
     "text": [
      "Sugar free My 90 year old Daddy just got diagnosed, the one thing he loves is Ice cream, can he eat sugar free ice cream?\n"
     ]
    }
   ],
   "source": [
    "print (train[\"Question\"][0])"
   ]
  },
  {
   "cell_type": "code",
   "execution_count": 83,
   "metadata": {
    "collapsed": false
   },
   "outputs": [
    {
     "name": "stdout",
     "output_type": "stream",
     "text": [
      "Metformin Advice Please..I am just wondering if anyone knows if you take more than one pill of your usual dose of Metformin can it hurt/affect you in any way? I had my tea but I couldn't remember if I had my Metformin afterwards. Should I take a pill if I'm not sure. or should I just leave it?\n"
     ]
    }
   ],
   "source": [
    "print (train[\"Question\"][10])"
   ]
  },
  {
   "cell_type": "code",
   "execution_count": 7,
   "metadata": {
    "collapsed": true
   },
   "outputs": [],
   "source": [
    "# Import BeautifulSoup into your workspace\n",
    "from bs4 import BeautifulSoup             \n",
    "import re\n",
    "import nltk\n",
    "#nltk.download()  # Download text data sets, including stop words\n",
    "from nltk.corpus import stopwords # Import the stop word list\n",
    "#print (stopwords.words(\"english\") )"
   ]
  },
  {
   "cell_type": "code",
   "execution_count": 8,
   "metadata": {
    "collapsed": true,
    "scrolled": true
   },
   "outputs": [],
   "source": [
    "from nltk.corpus import stopwords # Import the stop word list\n",
    "#print (stopwords.words(\"english\") )"
   ]
  },
  {
   "cell_type": "code",
   "execution_count": 9,
   "metadata": {
    "collapsed": true
   },
   "outputs": [],
   "source": [
    "def question_to_words( raw_review ):\n",
    "    # Function to convert a raw review to a string of words\n",
    "    # The input is a single string (a raw movie review), and \n",
    "    # the output is a single string (a preprocessed movie review)\n",
    "    #\n",
    "    # 1. Remove HTML\n",
    "    review_text = BeautifulSoup(raw_review, \"lxml\").get_text() \n",
    "    #\n",
    "    # 2. Remove non-letters        \n",
    "    letters_only = re.sub(\"[^a-zA-Z]\", \" \", review_text) \n",
    "    #\n",
    "    # 3. Convert to lower case, split into individual words\n",
    "    words = letters_only.lower().split()                             \n",
    "    #\n",
    "    # 4. In Python, searching a set is much faster than searching\n",
    "    #   a list, so convert the stop words to a set\n",
    "    stops = set(stopwords.words(\"english\"))                  \n",
    "    # \n",
    "    # 5. Remove stop words\n",
    "    meaningful_words = [w for w in words if not w in stops]   \n",
    "    #\n",
    "    # 6. Join the words back into one string separated by space, \n",
    "    # and return the result.\n",
    "    return( \" \".join( meaningful_words ))   "
   ]
  },
  {
   "cell_type": "code",
   "execution_count": 10,
   "metadata": {
    "collapsed": false
   },
   "outputs": [
    {
     "name": "stdout",
     "output_type": "stream",
     "text": [
      "sugar free year old daddy got diagnosed one thing loves ice cream eat sugar free ice cream\n"
     ]
    }
   ],
   "source": [
    "clean_question_train = question_to_words( train[\"Question\"][0] )\n",
    "print (clean_question_train)"
   ]
  },
  {
   "cell_type": "code",
   "execution_count": 11,
   "metadata": {
    "collapsed": false
   },
   "outputs": [
    {
     "name": "stdout",
     "output_type": "stream",
     "text": [
      "105\n"
     ]
    }
   ],
   "source": [
    "# Get the number of reviews based on the dataframe column size\n",
    "num_questions_train = train[\"Question\"].size\n",
    "print num_questions_train\n",
    "\n",
    "# Initialize an empty list to hold the clean reviews\n",
    "#clean_train_reviews = []\n",
    "\n",
    "# Loop over each review; create an index i that goes from 0 to the length\n",
    "# of the movie review list \n",
    "#for i in xrange( 0, num_reviews ):\n",
    "    # Call our function for each one, and add the result to the list of\n",
    "    # clean reviews\n",
    "    #clean_train_reviews.append( review_to_words( train[\"review\"][i] ) )"
   ]
  },
  {
   "cell_type": "code",
   "execution_count": 12,
   "metadata": {
    "collapsed": false
   },
   "outputs": [
    {
     "name": "stdout",
     "output_type": "stream",
     "text": [
      "Cleaning and parsing the training set questions...\n",
      "\n",
      "Question from train 10 of 105\n",
      "\n",
      "Question from train 20 of 105\n",
      "\n",
      "Question from train 30 of 105\n",
      "\n",
      "Question from train 40 of 105\n",
      "\n",
      "Question from train 50 of 105\n",
      "\n",
      "Question from train 60 of 105\n",
      "\n",
      "Question from train 70 of 105\n",
      "\n",
      "Question from train 80 of 105\n",
      "\n",
      "Question from train 90 of 105\n",
      "\n",
      "Question from train 100 of 105\n",
      "\n"
     ]
    }
   ],
   "source": [
    "print (\"Cleaning and parsing the training set questions...\\n\")\n",
    "clean_train_questions = []\n",
    "\n",
    "for i in range( 0, num_questions_train ):\n",
    "    # If the index is evenly divisible by 1000, print a message\n",
    "    if( (i+1)%10 == 0 ):\n",
    "        print (\"Question from train %d of %d\\n\" % ( i+1, num_questions_train )  )                                                                  \n",
    "    clean_train_questions.append( question_to_words( train[\"Question\"][i] ))\n"
   ]
  },
  {
   "cell_type": "code",
   "execution_count": 13,
   "metadata": {
    "collapsed": false
   },
   "outputs": [
    {
     "name": "stdout",
     "output_type": "stream",
     "text": [
      "new c going battery tests swollen axillary supraclavicular lymph nodes obviously looking cancer ultrasounds chest xray diagnostic mammogram scheduled lymph node removal weeks doctor leave town family emergency contact days great deal stress year also meds panic disorder generalized anxiety surgeon met yesterday said c diabetic right antibiotic see lymph nodes reacting unknown bacterial infection stuff going contribute higher reading fasting bg always normal last checked year ago\n"
     ]
    }
   ],
   "source": [
    "print clean_train_questions[20]"
   ]
  },
  {
   "cell_type": "code",
   "execution_count": 14,
   "metadata": {
    "collapsed": false
   },
   "outputs": [
    {
     "name": "stdout",
     "output_type": "stream",
     "text": [
      "sugar free year old daddy got diagnosed one thing loves ice cream eat sugar free ice cream\n"
     ]
    }
   ],
   "source": [
    "print clean_train_questions[0]"
   ]
  },
  {
   "cell_type": "code",
   "execution_count": 15,
   "metadata": {
    "collapsed": false
   },
   "outputs": [
    {
     "name": "stdout",
     "output_type": "stream",
     "text": [
      "Creating the bag of words for train set...\n",
      "\n"
     ]
    }
   ],
   "source": [
    "print \"Creating the bag of words for train set...\\n\"\n",
    "from sklearn.feature_extraction.text import CountVectorizer\n",
    "\n",
    "# Initialize the \"CountVectorizer\" object, which is scikit-learn's\n",
    "# bag of words tool.  \n",
    "vectorizer = CountVectorizer(analyzer = \"word\",   \\\n",
    "                             tokenizer = None,    \\\n",
    "                             preprocessor = None, \\\n",
    "                             stop_words = None,   \\\n",
    "                             max_features = 900) \n",
    "\n",
    "# fit_transform() does two functions: First, it fits the model\n",
    "# and learns the vocabulary; second, it transforms our training data\n",
    "# into feature vectors. The input to fit_transform should be a list of \n",
    "# strings.\n",
    "train_data_features = vectorizer.fit_transform(clean_train_questions)\n",
    "\n",
    "# Numpy arrays are easy to work with, so convert the result to an \n",
    "# array\n",
    "train_data_features = train_data_features.toarray()\n"
   ]
  },
  {
   "cell_type": "code",
   "execution_count": 16,
   "metadata": {
    "collapsed": false
   },
   "outputs": [
    {
     "name": "stdout",
     "output_type": "stream",
     "text": [
      "(105L, 900L)\n"
     ]
    }
   ],
   "source": [
    "print train_data_features.shape\n"
   ]
  },
  {
   "cell_type": "code",
   "execution_count": 17,
   "metadata": {
    "collapsed": false
   },
   "outputs": [],
   "source": [
    "# Take a look at the words in the vocabulary\n",
    "vocab = vectorizer.get_feature_names()\n",
    "#print vocab"
   ]
  },
  {
   "cell_type": "code",
   "execution_count": 18,
   "metadata": {
    "collapsed": false
   },
   "outputs": [
    {
     "name": "stdout",
     "output_type": "stream",
     "text": [
      "[0 0 0 0 0 0 0 0 0 0 0 0 0 0 0 0 0 0 0 0 0 0 0 0 0 0 0 0 0 0 0 0 0 0 0 0 0\n",
      " 0 0 0 0 0 0 0 0 0 0 0 0 0 0 0 0 0 0 0 0 0 0 0 0 0 0 0 0 0 0 0 0 0 0 0 0 0\n",
      " 0 0 0 0 0 0 0 0 0 0 0 0 0 0 0 0 0 0 0 0 0 0 0 0 0 0 0 0 0 0 0 0 0 0 0 0 0\n",
      " 0 0 0 0 0 0 0 0 0 0 0 0 0 0 0 0 0 0 0 0 0 0 0 0 0 0 0 0 0 0 0 0 0 0 0 0 0\n",
      " 0 0 0 0 0 0 0 0 0 0 0 0 0 0 0 0 0 0 0 0 0 0 0 0 0 0 0 0 0 0 0 0 0 0 0 0 0\n",
      " 0 0 0 0 0 0 0 2 0 0 0 0 0 0 0 0 0 0 0 0 1 0 0 0 0 0 0 0 0 0 0 0 0 0 0 0 0\n",
      " 0 0 0 0 0 0 0 0 0 0 0 0 1 0 0 0 0 0 0 0 0 0 0 0 0 0 0 0 0 0 0 0 0 0 0 0 0\n",
      " 0 0 0 0 0 0 0 0 0 0 0 1 0 0 0 0 0 0 0 0 0 0 0 0 0 0 0 0 0 0 0 0 0 0 0 0 0\n",
      " 0 0 0 0 0 0 0 0 0 0 0 0 0 0 0 0 0 0 0 0 0 0 0 0 0 0 0 0 0 0 0 0 0 0 0 0 0\n",
      " 2 0 0 0 0 0 0 0 0 0 0 0 0 0 0 0 1 0 0 0 0 0 0 0 0 0 0 0 0 0 0 0 0 0 0 0 0\n",
      " 0 0 0 2 0 0 0 0 0 0 0 0 0 0 0 0 0 0 0 0 0 0 0 0 0 0 0 0 0 0 0 0 0 0 0 0 0\n",
      " 0 0 0 0 0 0 0 0 0 0 0 0 0 0 0 0 0 0 0 0 0 0 0 0 0 1 0 0 0 0 0 0 0 0 0 0 0\n",
      " 0 0 0 0 0 0 0 0 0 0 0 0 0 0 0 0 0 0 0 0 0 0 0 0 0 0 0 0 0 0 0 0 0 0 0 0 0\n",
      " 0 0 0 0 0 0 0 0 0 0 0 0 0 0 0 0 0 0 0 0 0 0 0 0 0 1 1 0 0 0 0 0 0 0 0 0 0\n",
      " 0 0 0 0 0 0 0 0 0 0 0 0 0 0 0 0 0 0 0 0 0 0 0 0 0 0 0 0 0 0 0 0 0 0 0 0 0\n",
      " 0 0 0 0 0 0 0 0 0 0 0 0 0 0 0 0 0 0 0 0 0 0 0 0 0 0 0 0 0 0 0 0 0 0 0 0 0\n",
      " 0 0 0 0 0 0 0 0 0 0 0 0 0 0 0 0 0 0 0 0 0 0 0 0 0 0 0 0 0 0 0 0 0 0 0 0 0\n",
      " 0 0 0 0 0 0 0 0 0 0 0 0 0 0 0 0 0 0 0 0 0 0 0 0 0 0 0 0 0 0 0 0 0 0 0 0 0\n",
      " 0 0 0 0 0 0 0 0 0 0 0 0 0 0 0 0 0 0 0 0 0 0 0 0 0 0 0 0 0 0 0 0 0 0 0 0 0\n",
      " 0 0 0 0 0 0 0 0 0 0 0 0 0 0 2 0 0 0 0 0 0 0 0 0 0 0 0 0 0 0 0 0 0 0 0 0 0\n",
      " 0 0 0 0 0 0 0 0 0 0 0 0 0 0 0 0 0 0 0 0 0 0 0 0 0 0 0 0 1 0 0 0 0 0 0 0 0\n",
      " 0 0 0 0 0 0 0 0 0 0 0 0 0 0 0 0 0 0 0 0 0 0 0 0 0 0 0 0 0 0 0 0 0 0 0 0 0\n",
      " 0 0 0 0 0 0 0 0 0 0 0 0 0 0 0 0 0 0 0 0 0 0 0 0 0 0 0 0 0 0 0 0 0 0 0 0 0\n",
      " 0 0 0 0 0 0 0 0 0 0 0 0 0 0 0 0 0 0 0 0 0 0 0 0 0 0 0 0 0 0 0 0 0 0 0 0 0\n",
      " 0 0 1 0 0 0 0 0 0 0 0 0]\n"
     ]
    }
   ],
   "source": [
    "print train_data_features[0]"
   ]
  },
  {
   "cell_type": "code",
   "execution_count": 19,
   "metadata": {
    "collapsed": false
   },
   "outputs": [],
   "source": [
    "import numpy as np\n",
    "\n",
    "# Sum up the counts of each vocabulary word\n",
    "dist = np.sum(train_data_features, axis=0)\n",
    "ngram_freq = {}\n",
    "# For each, print the vocabulary word and the number of times it \n",
    "# appears in the training set\n",
    "for tag, count in zip(vocab, dist):\n",
    "#    print count, tag\n",
    "    ngram_freq[tag]=count\n",
    "\n"
   ]
  },
  {
   "cell_type": "code",
   "execution_count": 20,
   "metadata": {
    "collapsed": false
   },
   "outputs": [
    {
     "data": {
      "text/plain": [
       "[(u'diabetes', 46),\n",
       " (u'sugar', 43),\n",
       " (u'metformin', 38),\n",
       " (u'type', 36),\n",
       " (u'blood', 34),\n",
       " (u'anyone', 33),\n",
       " (u'diabetic', 30),\n",
       " (u'eat', 26),\n",
       " (u'take', 23),\n",
       " (u'know', 22)]"
      ]
     },
     "execution_count": 20,
     "metadata": {},
     "output_type": "execute_result"
    }
   ],
   "source": [
    "\n",
    "import operator\n",
    "sorted_x = sorted(ngram_freq.items(), key=operator.itemgetter(1),reverse=True)\n",
    "#print sorted_x\n",
    "#n_items = take(3,   sorted_x.iteritems())\n",
    "#print n_items\n",
    "sorted_x[:10]"
   ]
  },
  {
   "cell_type": "code",
   "execution_count": 21,
   "metadata": {
    "collapsed": false
   },
   "outputs": [],
   "source": [
    "from sklearn.feature_extraction.text import CountVectorizer, TfidfVectorizer\n",
    "import matplotlib.pyplot as plt\n",
    "import pandas as pd\n",
    "import numpy as np\n",
    "\n",
    "def visualize_word_freq(input_data,max_words):\n",
    "    \"\"\" \n",
    "    Input data should be a list of docs.\n",
    "    Each doc is represented by one whole string (with preprocessing, eg.remove markups)    \n",
    "    \"\"\"\n",
    "    # Plot configuration\n",
    "    plt.style.use(\"ggplot\")\n",
    "    plt.rcParams['axes.titlesize'] = 32\n",
    "    plt.rcParams['figure.figsize'] = (20.0, 5.0)\n",
    "    plt.rcParams['xtick.labelsize'] = 22\n",
    "    \n",
    "    vectorizer = CountVectorizer(max_features=max_words)\n",
    "    TITLE = \"MOST Freq Words\"\n",
    "        \n",
    "    mat = vectorizer.fit_transform(input_data)\n",
    "    \n",
    "    pd.DataFrame(np.sum(mat,axis=0).T,\n",
    "             index=vectorizer.get_feature_names(),\n",
    "             columns=['freq']).sort_values(by='freq',\n",
    "                                           ascending=False).plot(kind='bar',title=TITLE)"
   ]
  },
  {
   "cell_type": "code",
   "execution_count": 22,
   "metadata": {
    "collapsed": false
   },
   "outputs": [
    {
     "data": {
      "image/png": "[encoded data removed]",
      "text/plain": [
       "<matplotlib.figure.Figure at 0x423e860>"
      ]
     },
     "metadata": {},
     "output_type": "display_data"
    }
   ],
   "source": [
    "%matplotlib inline\n",
    "visualize_word_freq(clean_train_questions,20)"
   ]
  },
  {
   "cell_type": "code",
   "execution_count": 50,
   "metadata": {
    "collapsed": false,
    "scrolled": false
   },
   "outputs": [
    {
     "name": "stdout",
     "output_type": "stream",
     "text": [
      "Creating the tf/idf...\n",
      "\n",
      "(105L, 900L)\n"
     ]
    }
   ],
   "source": [
    "from sklearn.feature_extraction.text import TfidfVectorizer\n",
    "print(\"Creating the tf/idf...\\n\")\n",
    "# Initialize the \"TfidfVectorizer\" object, which is scikit-learn's tf/idf tool.\n",
    "\"\"\"\n",
    "tfidf_vectorizer = TfidfVectorizer(max_df=1, \\\n",
    "                                   max_features=20, \\\n",
    "                                   min_df=1, \\\n",
    "                                   stop_words=None, \\\n",
    "                                   use_idf=True, \\\n",
    "                                   tokenizer=None, \\\n",
    "                                   ngram_range=(1,1)) \n",
    "\n",
    "\"\"\"\n",
    "\n",
    "\"\"\"\n",
    "CALCULA EL IF-tdf DE ACUERDO A LA EXPRESION \n",
    "morm (tf * LOGN(dT+1/dt+1)+1)\n",
    "\"\"\"\n",
    "\n",
    "\n",
    "tfidf_vectorizer = TfidfVectorizer(max_features=900)\n",
    "# Tf-idf-weighted term-document sparse matrix \n",
    "\n",
    "tfidf_train_data_features = tfidf_vectorizer.fit_transform(clean_train_questions)\n",
    "\n",
    "\n",
    "\n",
    "\n",
    "# Convert the result to nampy array \n",
    "\n",
    "tfidf_train_data_features_array= tfidf_train_data_features.toarray() \n",
    "\n",
    "print(tfidf_train_data_features_array.shape)\n",
    "vocab = tfidf_vectorizer.get_feature_names()\n",
    "#print vocab\n"
   ]
  },
  {
   "cell_type": "code",
   "execution_count": 103,
   "metadata": {
    "collapsed": false
   },
   "outputs": [],
   "source": [
    "#print train_data_features"
   ]
  },
  {
   "cell_type": "code",
   "execution_count": 104,
   "metadata": {
    "collapsed": false
   },
   "outputs": [],
   "source": [
    "#tfidf_train_data_features.A[0]"
   ]
  },
  {
   "cell_type": "code",
   "execution_count": 105,
   "metadata": {
    "collapsed": false,
    "scrolled": true
   },
   "outputs": [
    {
     "data": {
      "text/plain": [
       "array([ 1.        ,  0.        ,  0.        ,  0.03673628,  0.05018691,\n",
       "        0.04009377,  0.        ,  0.        ,  0.        ,  0.        ,\n",
       "        0.03174107,  0.        ,  0.07202018,  0.02199356,  0.07105799,\n",
       "        0.        ,  0.        ,  0.05094452,  0.03453765,  0.        ,\n",
       "        0.02483711,  0.        ,  0.01772247,  0.        ,  0.04209686,\n",
       "        0.07943853,  0.        ,  0.03513058,  0.        ,  0.        ,\n",
       "        0.01019913,  0.09545637,  0.02195643,  0.04215165,  0.        ,\n",
       "        0.        ,  0.        ,  0.01875223,  0.        ,  0.        ,\n",
       "        0.07986977,  0.28246932,  0.01923789,  0.01844407,  0.        ,\n",
       "        0.        ,  0.08554566,  0.        ,  0.11522225,  0.        ,\n",
       "        0.        ,  0.        ,  0.05619191,  0.07441536,  0.248932  ,\n",
       "        0.        ,  0.        ,  0.        ,  0.        ,  0.        ,\n",
       "        0.0497615 ,  0.        ,  0.0660735 ,  0.07404125,  0.03812501,\n",
       "        0.03350976,  0.21792006,  0.        ,  0.01939934,  0.        ,\n",
       "        0.03267464,  0.        ,  0.05592471,  0.        ,  0.        ,\n",
       "        0.06335997,  0.04544036,  0.        ,  0.        ,  0.04086871,\n",
       "        0.09941446,  0.12628352,  0.        ,  0.        ,  0.01719967,\n",
       "        0.        ,  0.02563963,  0.        ,  0.        ,  0.0454611 ,\n",
       "        0.09216015,  0.        ,  0.03629371,  0.02275073,  0.23802954,\n",
       "        0.        ,  0.02068864,  0.02464979,  0.        ,  0.03243713,\n",
       "        0.        ,  0.02179584,  0.0240681 ,  0.        ,  0.        ])"
      ]
     },
     "execution_count": 105,
     "metadata": {},
     "output_type": "execute_result"
    }
   ],
   "source": [
    "#check for sanity\n",
    "from sklearn.metrics.pairwise import linear_kernel\n",
    "cosine_similarities = linear_kernel(tfidf_train_data_features[0:1], tfidf_train_data_features[0:105]).flatten()\n",
    "cosine_similarities"
   ]
  },
  {
   "cell_type": "code",
   "execution_count": 106,
   "metadata": {
    "collapsed": false
   },
   "outputs": [
    {
     "data": {
      "text/plain": [
       "array([ 0, 41, 54, 94, 66], dtype=int64)"
      ]
     },
     "execution_count": 106,
     "metadata": {},
     "output_type": "execute_result"
    }
   ],
   "source": [
    "related_indices = cosine_similarities.argsort()[:-6:-1]\n",
    "related_indices\n"
   ]
  },
  {
   "cell_type": "code",
   "execution_count": 107,
   "metadata": {
    "collapsed": false
   },
   "outputs": [
    {
     "name": "stdout",
     "output_type": "stream",
     "text": [
      "0      11\n",
      "41    137\n",
      "54    152\n",
      "94    193\n",
      "66    165\n",
      "Name: Id, dtype: int64\n"
     ]
    }
   ],
   "source": [
    "print (train[\"Id\"][related_indices])"
   ]
  },
  {
   "cell_type": "code",
   "execution_count": 108,
   "metadata": {
    "collapsed": false
   },
   "outputs": [
    {
     "data": {
      "text/plain": [
       "array([ 1.        ,  0.28246932,  0.248932  ,  0.23802954,  0.21792006])"
      ]
     },
     "execution_count": 108,
     "metadata": {},
     "output_type": "execute_result"
    }
   ],
   "source": [
    "cosine_similarities[related_indices]"
   ]
  },
  {
   "cell_type": "code",
   "execution_count": 109,
   "metadata": {
    "collapsed": false
   },
   "outputs": [
    {
     "name": "stdout",
     "output_type": "stream",
     "text": [
      "[41 54 94 66]\n",
      "41    137\n",
      "54    152\n",
      "94    193\n",
      "66    165\n",
      "Name: Id, dtype: int64\n"
     ]
    },
    {
     "data": {
      "text/plain": [
       "array([ 0.28246932,  0.248932  ,  0.23802954,  0.21792006])"
      ]
     },
     "execution_count": 109,
     "metadata": {},
     "output_type": "execute_result"
    }
   ],
   "source": [
    "#compare questions with train and re-checl the index\n",
    "cosine_similarities = linear_kernel(tfidf_train_data_features[0:1], tfidf_train_data_features[10:105]).flatten()\n",
    "#cosine_similarities\n",
    "related_indices = cosine_similarities.argsort()[:-5:-1]\n",
    "print related_indices+10\n",
    "print (train[\"Id\"][related_indices+10])\n",
    "cosine_similarities[related_indices]\n"
   ]
  },
  {
   "cell_type": "code",
   "execution_count": 111,
   "metadata": {
    "collapsed": false,
    "scrolled": true
   },
   "outputs": [
    {
     "name": "stdout",
     "output_type": "stream",
     "text": [
      "0      11\n",
      "41    137\n",
      "54    152\n",
      "94    193\n",
      "Name: Id, dtype: int64\n",
      "[ 1.          0.28246932  0.248932    0.23802954]\n",
      "\n",
      "1       12\n",
      "32     127\n",
      "68     167\n",
      "103    203\n",
      "Name: Id, dtype: int64\n",
      "[ 1.          0.3810436   0.14497921  0.10717328]\n",
      "\n",
      "2       13\n",
      "56     154\n",
      "30     125\n",
      "101    200\n",
      "Name: Id, dtype: int64\n",
      "[ 1.          0.17822766  0.16342329  0.14547338]\n",
      "\n",
      "3      14\n",
      "12    103\n",
      "65    164\n",
      "4      15\n",
      "Name: Id, dtype: int64\n",
      "[ 1.          0.34284112  0.13918243  0.13656304]\n",
      "\n",
      "4      15\n",
      "19    113\n",
      "63    162\n",
      "80    179\n",
      "Name: Id, dtype: int64\n",
      "[ 1.          0.32002504  0.28523738  0.25287308]\n",
      "\n",
      "5      16\n",
      "93    192\n",
      "46    142\n",
      "4      15\n",
      "Name: Id, dtype: int64\n",
      "[ 1.          0.28932099  0.1895357   0.177798  ]\n",
      "\n",
      "6      17\n",
      "45    141\n",
      "95    194\n",
      "69    168\n",
      "Name: Id, dtype: int64\n",
      "[ 1.          0.23340948  0.19994945  0.08422142]\n",
      "\n",
      "7      18\n",
      "58    156\n",
      "46    142\n",
      "18    112\n",
      "Name: Id, dtype: int64\n",
      "[ 1.          0.20230752  0.16199446  0.13169271]\n",
      "\n",
      "8      19\n",
      "34    129\n",
      "58    156\n",
      "49    146\n",
      "Name: Id, dtype: int64\n",
      "[ 1.          0.1969181   0.16522784  0.14536416]\n",
      "\n",
      "9       20\n",
      "98     197\n",
      "102    202\n",
      "62     161\n",
      "Name: Id, dtype: int64\n",
      "[ 1.          0.47190516  0.13586937  0.11557078]\n",
      "\n"
     ]
    }
   ],
   "source": [
    "# compute all\n",
    "for i in range(0,10):\n",
    "    cosine_similarities = linear_kernel(tfidf_train_data_features[i:i+1], tfidf_train_data_features).flatten()\n",
    "#cosine_similarities\n",
    "    related_indices = cosine_similarities.argsort()[:-5:-1]\n",
    "    #related_indices\n",
    "    print (train[\"Id\"][related_indices])\n",
    "    print cosine_similarities[related_indices]\n",
    "    print"
   ]
  },
  {
   "cell_type": "code",
   "execution_count": 112,
   "metadata": {
    "collapsed": false
   },
   "outputs": [
    {
     "name": "stdout",
     "output_type": "stream",
     "text": [
      "41    137\n",
      "54    152\n",
      "94    193\n",
      "66    165\n",
      "Name: Id, dtype: int64\n",
      "[ 0.28246932  0.248932    0.23802954  0.21792006]\n",
      "\n",
      "32     127\n",
      "68     167\n",
      "103    203\n",
      "14     105\n",
      "Name: Id, dtype: int64\n",
      "[ 0.3810436   0.14497921  0.10717328  0.10589828]\n",
      "\n",
      "56     154\n",
      "30     125\n",
      "101    200\n",
      "79     178\n",
      "Name: Id, dtype: int64\n",
      "[ 0.17822766  0.16342329  0.14547338  0.13023331]\n",
      "\n",
      "12    103\n",
      "65    164\n",
      "80    179\n",
      "26    121\n",
      "Name: Id, dtype: int64\n",
      "[ 0.34284112  0.13918243  0.13221589  0.11284506]\n",
      "\n",
      "19    113\n",
      "63    162\n",
      "80    179\n",
      "51    149\n",
      "Name: Id, dtype: int64\n",
      "[ 0.32002504  0.28523738  0.25287308  0.24745405]\n",
      "\n",
      "93    192\n",
      "46    142\n",
      "99    198\n",
      "19    113\n",
      "Name: Id, dtype: int64\n",
      "[ 0.28932099  0.1895357   0.15652844  0.15436409]\n",
      "\n",
      "45     141\n",
      "95     194\n",
      "69     168\n",
      "104    204\n",
      "Name: Id, dtype: int64\n",
      "[ 0.23340948  0.19994945  0.08422142  0.07784399]\n",
      "\n",
      "58     156\n",
      "46     142\n",
      "18     112\n",
      "102    202\n",
      "Name: Id, dtype: int64\n",
      "[ 0.20230752  0.16199446  0.13169271  0.10636545]\n",
      "\n",
      "34    129\n",
      "58    156\n",
      "49    146\n",
      "87    186\n",
      "Name: Id, dtype: int64\n",
      "[ 0.1969181   0.16522784  0.14536416  0.11788019]\n",
      "\n",
      "98     197\n",
      "102    202\n",
      "62     161\n",
      "60     159\n",
      "Name: Id, dtype: int64\n",
      "[ 0.47190516  0.13586937  0.11557078  0.07428731]\n",
      "\n"
     ]
    }
   ],
   "source": [
    "# compute all\n",
    "for i in range(0,10):\n",
    "    cosine_similarities = linear_kernel(tfidf_train_data_features[i:i+1], tfidf_train_data_features[10:105]).flatten()\n",
    "#cosine_similarities\n",
    "    related_indices = cosine_similarities.argsort()[:-5:-1]\n",
    "    related_indices+10\n",
    "    print (train[\"Id\"][related_indices+10])\n",
    "    print cosine_similarities[related_indices]\n",
    "    print"
   ]
  },
  {
   "cell_type": "code",
   "execution_count": 49,
   "metadata": {
    "collapsed": false
   },
   "outputs": [
    {
     "name": "stdout",
     "output_type": "stream",
     "text": [
      "[ 1.          0.          0.          0.03673628  0.05018691  0.04009377\n",
      "  0.          0.          0.          0.          0.03174107  0.\n",
      "  0.07202018  0.02199356  0.07105799  0.          0.          0.05094452\n",
      "  0.03453765  0.          0.02483711  0.          0.01772247  0.\n",
      "  0.04209686  0.07943853  0.          0.03513058  0.          0.\n",
      "  0.01019913  0.09545637  0.02195643  0.04215165  0.          0.          0.\n",
      "  0.01875223  0.          0.          0.07986977  0.28246932  0.01923789\n",
      "  0.01844407  0.          0.          0.08554566  0.          0.11522225\n",
      "  0.          0.          0.          0.05619191  0.07441536  0.248932    0.\n",
      "  0.          0.          0.          0.          0.0497615   0.          0.0660735\n",
      "  0.07404125  0.03812501  0.03350976  0.21792006  0.          0.01939934\n",
      "  0.          0.03267464  0.          0.05592471  0.          0.\n",
      "  0.06335997  0.04544036  0.          0.          0.04086871  0.09941446\n",
      "  0.12628352  0.          0.          0.01719967  0.          0.02563963\n",
      "  0.          0.          0.0454611   0.09216015  0.          0.03629371\n",
      "  0.02275073  0.23802954  0.          0.02068864  0.02464979  0.\n",
      "  0.03243713  0.          0.02179584  0.0240681   0.          0.        ]\n",
      "sugar free year old daddy got diagnosed one thing loves ice cream eat sugar free ice cream\n"
     ]
    }
   ],
   "source": [
    "import numpy\n",
    "scores = (tfidf_train_data_features[0, :] * tfidf_train_data_features[0:, :].T).A[0]\n",
    "print scores\n",
    "best_score = np.argmax(scores)\n",
    "answer = clean_train_questions[best_score]\n",
    "print answer"
   ]
  },
  {
   "cell_type": "code",
   "execution_count": null,
   "metadata": {
    "collapsed": true
   },
   "outputs": [],
   "source": []
  }
 ],
 "metadata": {
  "anaconda-cloud": {},
  "kernelspec": {
   "display_name": "Python [Root]",
   "language": "python",
   "name": "Python [Root]"
  },
  "language_info": {
   "codemirror_mode": {
    "name": "ipython",
    "version": 2
   },
   "file_extension": ".py",
   "mimetype": "text/x-python",
   "name": "python",
   "nbconvert_exporter": "python",
   "pygments_lexer": "ipython2",
   "version": "2.7.12"
  }
 },
 "nbformat": 4,
 "nbformat_minor": 1
}
